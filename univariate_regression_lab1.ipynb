{
 "cells": [
  {
   "cell_type": "markdown",
   "id": "4699aca2",
   "metadata": {},
   "source": [
    "# Framing the Problem\n",
    "The objective of this report is to employ univariate linear regression models to forecast California's median home value.  Our goal is to determine which of the separate factors listed below most accurately predicts home number:\n",
    "- Population Growth the quantity of households\n",
    "- average earnings\n",
    "\n",
    "This analysis will help stakeholders understand key drivers of housing prices."
   ]
  },
  {
   "cell_type": "markdown",
   "id": "39e2e300",
   "metadata": {},
   "source": [
    "# # Getting the Data\n",
    "We use the [California Housing Prices Dataset](https://www.kaggle.com/datasets/camnugent/california-housing-prices)."
   ]
  },
  {
   "cell_type": "code",
   "execution_count": null,
   "id": "8be615cc",
   "metadata": {},
   "outputs": [],
   "source": [
    "# Importing Required Libraries\n",
    "%pip install seaborn scikit-learn\n",
    "import pandas as pd                      # For data loading and manipulation\n",
    "import seaborn as sns                    # For visualization (optional in this block)\n",
    "import matplotlib.pyplot as plt          # For plotting graphs\n",
    "from sklearn.linear_model import LinearRegression      # For creating a linear regression model\n",
    "from sklearn.metrics import mean_squared_error, mean_absolute_error  # For evaluating model performance\n",
    "\n",
    "# Load the California Housing dataset from a URL\n",
    "df = pd.read_csv(\"https://download.mlcc.google.com/mledu-datasets/california_housing_train.csv\")\n",
    "\n",
    "# Display the first 5 rows of the dataset to understand its structure\n",
    "df.head()\n"
   ]
  },
  {
   "cell_type": "markdown",
   "id": "e87351cb",
   "metadata": {},
   "source": [
    "# # Exploratory Data Analysis (EDA)"
   ]
  },
  {
   "cell_type": "code",
   "execution_count": null,
   "id": "90ccc3c1",
   "metadata": {},
   "outputs": [],
   "source": [
    "\n",
    "from IPython.display import display\n",
    "\n",
    "# Load the dataset\n",
    "df = pd.read_csv(r\"D:\\Applied AI & ML\\Foundation of Machine learning frameworks\\archive\\housing.csv\")\n",
    "\n",
    "# Show summary stats in a clean table with rounded values\n",
    "display(df.describe().round(2))\n"
   ]
  },
  {
   "cell_type": "code",
   "execution_count": null,
   "id": "771f1e52",
   "metadata": {},
   "outputs": [],
   "source": [
    "import matplotlib.pyplot as plt\n",
    "import seaborn as sns\n",
    "\n",
    "# Scatter Plot 1: Median Income vs Median House Value\n",
    "# This helps visualize the relationship between how much people earn and house prices.\n",
    "sns.scatterplot(x='median_income', y='median_house_value', data=df)\n",
    "plt.title(\"Median House Value vs Median Income\")\n",
    "plt.xlabel(\"Median Income\")              \n",
    "plt.ylabel(\"Median House Value\")\n",
    "plt.show()\n",
    "\n",
    "# Scatter Plot 2: Population vs Median House Value\n",
    "# This checks whether areas with more people tend to have higher or lower house values.\n",
    "sns.scatterplot(x='population', y='median_house_value', data=df)\n",
    "plt.title(\"Median House Value vs Population\")\n",
    "plt.xlabel(\"Population\")                \n",
    "plt.ylabel(\"Median House Value\")\n",
    "plt.show()\n",
    "\n",
    "# Scatter Plot 3: Households vs Median House Value\n",
    "# This explores if the number of households in an area affects housing prices.\n",
    "sns.scatterplot(x='households', y='median_house_value', data=df)\n",
    "plt.title(\"Median House Value vs Households\")\n",
    "plt.xlabel(\"Number of Households\")\n",
    "plt.ylabel(\"Median House Value\")\n",
    "plt.show()\n"
   ]
  },
  {
   "cell_type": "markdown",
   "id": "49670b1b",
   "metadata": {},
   "source": [
    "### 🔍 Variable Observations\n",
    "\n",
    "1. **`median_income`**  \n",
    "   Represents the median income of households in a block (in tens of thousands of dollars).  \n",
    "   - **Range**: ~0.5 to 15  \n",
    "   - **Observation**: Higher income tends to correlate with higher house values.\n",
    "\n",
    "2. **`median_house_value`**  \n",
    "   The median house price in a block (in dollars).  \n",
    "   - **Range**: ~15,000 to 500,000 (capped)  \n",
    "   - **Observation**: Many values cluster near the upper limit, suggesting a price cap.\n",
    "\n",
    "3. **`population`**  \n",
    "   Total number of people living in a block.  \n",
    "   - **Range**: ~3 to 35,000  \n",
    "   - **Observation**: No clear correlation with house value, large variance between blocks.\n",
    "\n",
    "4. **`households`**  \n",
    "   Number of households in a block.  \n",
    "   - **Range**: ~1 to 6,000  \n",
    "   - **Observation**: Similar to population, but with less variation.\n"
   ]
  },
  {
   "cell_type": "markdown",
   "id": "ba691b12",
   "metadata": {},
   "source": [
    "# # Linear Regression Models"
   ]
  },
  {
   "cell_type": "code",
   "execution_count": null,
   "id": "720a3d9e",
   "metadata": {},
   "outputs": [],
   "source": [
    "\n",
    "# Define a function to run simple linear regression on a single feature (X_col)\n",
    "def run_linreg(X_col):\n",
    "    X = df[[X_col]]                      \n",
    "    y = df[\"median_house_value\"]        \n",
    "\n",
    "    model = LinearRegression()\n",
    "    model.fit(X, y)\n",
    "    y_pred = model.predict(X)\n",
    "\n",
    "    return (\n",
    "        model.intercept_,\n",
    "        model.coef_[0],\n",
    "        mean_squared_error(y, y_pred),\n",
    "        mean_absolute_error(y, y_pred),\n",
    "        y_pred\n",
    "    )\n",
    "\n",
    "# Dictionary to store results for each variable\n",
    "results = {}\n",
    "\n",
    "# Loop over selected features and apply linear regression\n",
    "for var in [\"median_income\", \"population\", \"households\"]:\n",
    "    intercept, slope, mse, mae, y_pred = run_linreg(var)\n",
    "\n",
    "    results[var] = {\n",
    "        \"Intercept\": intercept,\n",
    "        \"Slope\": slope,\n",
    "        \"MSE\": mse,\n",
    "        \"MAE\": mae\n",
    "    }\n",
    "\n",
    "    # Plot scatter and regression line\n",
    "    plt.figure(figsize=(8, 5))\n",
    "    sns.scatterplot(x=var, y=\"median_house_value\", data=df, alpha=0.3)\n",
    "    plt.plot(df[var], y_pred, color=\"red\", label=\"Regression Line\")\n",
    "    plt.title(f\"Linear Regression: Median House Value vs {var}\")\n",
    "    plt.xlabel(var.replace(\"_\", \" \").title())\n",
    "    plt.ylabel(\"Median House Value\")\n",
    "\n",
    "    # Add regression metrics to the plot\n",
    "    plt.text(\n",
    "        0.6 * df[var].max(), 0.8 * df[\"median_house_value\"].max(),\n",
    "        f\"Intercept = {intercept:.2f}\\nSlope = {slope:.2f}\\nMSE = {mse:.2f}\\nMAE = {mae:.2f}\",\n",
    "        bbox=dict(facecolor='white', edgecolor='black')\n",
    "    )\n",
    "\n",
    "    plt.legend()\n",
    "    plt.tight_layout()\n",
    "    plt.show()\n"
   ]
  },
  {
   "cell_type": "code",
   "execution_count": null,
   "id": "773c275b",
   "metadata": {},
   "outputs": [],
   "source": [
    "# Convert regression results into a DataFrame\n",
    "summary_df = pd.DataFrame(results).T \n",
    "summary_df.index.name = \"Feature\"\n",
    "summary_df = summary_df.round(2)      \n",
    "\n",
    "# Display the summary table\n",
    "print(\"Summary Table of Linear Regression Models\")\n",
    "display(summary_df)\n"
   ]
  },
  {
   "cell_type": "markdown",
   "id": "8a6ffb0e",
   "metadata": {},
   "source": [
    "# Conclusion\n",
    "\n",
    "After fitting three univariate linear regression models, we observed the following:\n",
    "\n",
    "- **Median Income**: highest correlation with the median home value.  The MSE and MAE figures it generated were the lowest.  The rising trend is well-captured by the regression line.\n",
    "- **Population**: very poor linear correlation.  The fitted line does not adequately depict the data, and the scatter plot is widely scattered.\n",
    "- **Number of Households**: is still far lower than median income, but it has a little better trend than the population.\n",
    " **Final Insight**:\n",
    "The model using **median income** as the most trustworthy factor for estimating home prices is the separate variable.  It offers lowest errors in forecasting and a distinct trend.  As a result, we advise using it as the main variable in basic linear models."
   ]
  }
 ],
 "metadata": {
  "kernelspec": {
   "display_name": "ml",
   "language": "python",
   "name": "python3"
  },
  "language_info": {
   "codemirror_mode": {
    "name": "ipython",
    "version": 3
   },
   "file_extension": ".py",
   "mimetype": "text/x-python",
   "name": "python",
   "nbconvert_exporter": "python",
   "pygments_lexer": "ipython3",
   "version": "3.10.16"
  }
 },
 "nbformat": 4,
 "nbformat_minor": 5
}
